{
 "cells": [
  {
   "cell_type": "code",
   "execution_count": 1,
   "id": "1b59a9fe",
   "metadata": {},
   "outputs": [],
   "source": [
    "import numpy as np\n",
    "import matplotlib.pyplot as plt\n",
    "import math\n",
    "%matplotlib inline"
   ]
  },
  {
   "cell_type": "code",
   "execution_count": 2,
   "id": "eb90402f",
   "metadata": {},
   "outputs": [],
   "source": [
    "def f(x,y):\n",
    "    z = (x**2)/2 + (x*y)/2 - 1\n",
    "    return z"
   ]
  },
  {
   "cell_type": "code",
   "execution_count": 3,
   "id": "1f5a501f",
   "metadata": {},
   "outputs": [],
   "source": [
    "x0 = 0\n",
    "y0 = 1\n",
    "xf = 2\n",
    "sol_vera = 0.71828183\n",
    "init_value = 4\n",
    "end_value = 64\n",
    "n_steps = int(math.log2(end_value/init_value)+1)"
   ]
  },
  {
   "cell_type": "code",
   "execution_count": 4,
   "id": "94bda6dc",
   "metadata": {},
   "outputs": [],
   "source": [
    "def double_step(init_value, end_value, n_steps = n_steps):\n",
    "    n_list = np.zeros(n_steps)\n",
    "    n_list[0] = init_value\n",
    "    for i in range(1,n_steps):\n",
    "        n_list[i] = n_list[i-1]*2\n",
    "        n_list = n_list.astype('int')\n",
    "    return n_list"
   ]
  },
  {
   "cell_type": "code",
   "execution_count": 5,
   "id": "57924590",
   "metadata": {},
   "outputs": [
    {
     "data": {
      "text/plain": [
       "array([ 4,  8, 16, 32, 64])"
      ]
     },
     "execution_count": 5,
     "metadata": {},
     "output_type": "execute_result"
    }
   ],
   "source": [
    "n_list = double_step(4,64)\n",
    "#n_list"
   ]
  },
  {
   "cell_type": "code",
   "execution_count": 6,
   "id": "1573059f",
   "metadata": {},
   "outputs": [],
   "source": [
    "def runge_kutta_4(x0,xf,y0,n, printing = False):\n",
    "    lista_y = np.zeros(n)\n",
    "    lista_x = np.zeros(n)\n",
    "    h = (xf-x0)/n\n",
    "    #print(h)\n",
    "    x1=x0+h\n",
    "    for i in range(n):\n",
    "        k0=h*f(x0,y0)\n",
    "        k1=h*f(x0+(h/2), y0+(k0/2))\n",
    "        k2=h*f(x0+(h/2),y0+(k1/2))\n",
    "        k3=h*f(x0+h,y0+k2)\n",
    "        y1=y0+(k0+2*k1+2*k2+k3)/6\n",
    "        lista_y[i] = y1\n",
    "        lista_x[i] = x1\n",
    "        \n",
    "        if printing == True:\n",
    "            print((\" y(%.2f)=%11.8f\")%(x1,y1))\n",
    "        x0=x1\n",
    "        x1=x0+h\n",
    "        y0=y1\n",
    "    return y1,h, lista_x, lista_y"
   ]
  },
  {
   "cell_type": "code",
   "execution_count": 7,
   "id": "f952e3b7",
   "metadata": {},
   "outputs": [],
   "source": [
    "#runge_kutta_4()"
   ]
  },
  {
   "cell_type": "code",
   "execution_count": 8,
   "id": "64cb37f2",
   "metadata": {},
   "outputs": [
    {
     "name": "stdout",
     "output_type": "stream",
     "text": [
      "2.a.i) risultati stampati con il formato %11.8f\n",
      "con num. di passi n=4 abbiamo y(2)= 0.71787180\n",
      "con num. di passi n=8 abbiamo y(2)= 0.71825377\n",
      "con num. di passi n=16 abbiamo y(2)= 0.71828002\n",
      "con num. di passi n=32 abbiamo y(2)= 0.71828171\n",
      "con num. di passi n=64 abbiamo y(2)= 0.71828182\n"
     ]
    }
   ],
   "source": [
    "#2.a\n",
    "print(\"2.a.i) risultati stampati con il formato %11.8f\")\n",
    "\n",
    "#empty arrays\n",
    "risultati = np.zeros(n_steps)\n",
    "h_list = np.zeros(n_steps)\n",
    "err_vero = np.zeros(n_steps)\n",
    "errore = np.zeros(n_steps)\n",
    "\n",
    "#we compute results for all steps\n",
    "for i in range(n_steps):\n",
    "    risultati[i], h_list[i], lista_x, lista_y = runge_kutta_4(x0,xf,y0,n = n_list[i])\n",
    "    print((\"con num. di passi n=%d abbiamo y(%.0f)=%11.8f\")%(n_list[i],xf,risultati[i]))\n",
    "\n",
    "#we save errors in arrays\n",
    "for i in range(n_steps):\n",
    "    errore[i] = abs(risultati[i] - risultati[i-1])\n",
    "    err_vero[i] = abs(risultati[i] - sol_vera)"
   ]
  },
  {
   "cell_type": "code",
   "execution_count": 9,
   "id": "d861671f",
   "metadata": {},
   "outputs": [
    {
     "name": "stdout",
     "output_type": "stream",
     "text": [
      "2.a.ii) risultati secondo l'errore stimato dalla differenza con la soluzione precedente:\n",
      "con num. di passi n=4 abbiamo y(2)= 0.71787180 ed errore stimato= 0.00041003\n",
      "con num. di passi n=8 abbiamo y(2)= 0.71825377 ed errore stimato= 0.00038198\n",
      "con num. di passi n=16 abbiamo y(2)= 0.71828002 ed errore stimato= 0.00002625\n",
      "con num. di passi n=32 abbiamo y(2)= 0.71828171 ed errore stimato= 0.00000170\n",
      "con num. di passi n=64 abbiamo y(2)= 0.71828182 ed errore stimato= 0.00000011\n"
     ]
    }
   ],
   "source": [
    "print(\"2.a.ii) risultati secondo l'errore stimato dalla differenza con la soluzione precedente:\")\n",
    "for i in range(len(n_list)):\n",
    "    print((\"con num. di passi n=%d abbiamo y(%.0f)=%11.8f ed errore stimato=%11.8f\")%\n",
    "          (n_list[i],xf,risultati[i], errore[i]))"
   ]
  },
  {
   "cell_type": "code",
   "execution_count": 10,
   "id": "cfc5ea23",
   "metadata": {},
   "outputs": [
    {
     "name": "stdout",
     "output_type": "stream",
     "text": [
      "2.b) andamento errore con h, con quello atteso:\n",
      "con passo h=0.5000, errore= 0.00041003, errore atteso= 0.00041003\n",
      "con passo h=0.2500, errore= 0.00038198, errore atteso= 0.00002806\n",
      "con passo h=0.1250, errore= 0.00002625, errore atteso= 0.00000181\n",
      "con passo h=0.0625, errore= 0.00000170, errore atteso= 0.00000012\n",
      "con passo h=0.0312, errore= 0.00000011, errore atteso= 0.00000001\n"
     ]
    }
   ],
   "source": [
    "print(\"2.b) andamento errore con h, con quello atteso:\")\n",
    "\n",
    "for i in range(len(errore)):\n",
    "    print((\"con passo h=%.4f, errore=%11.8f, errore atteso=%11.8f\") % (h_list[i], errore[i], err_vero[i]))"
   ]
  },
  {
   "cell_type": "code",
   "execution_count": 11,
   "id": "48bb8c67",
   "metadata": {},
   "outputs": [
    {
     "data": {
      "image/png": "[encoded data removed]",
      "text/plain": [
       "<Figure size 1080x432 with 1 Axes>"
      ]
     },
     "metadata": {
      "needs_background": "light"
     },
     "output_type": "display_data"
    },
    {
     "name": "stdout",
     "output_type": "stream",
     "text": [
      "h=0.2500, k=0.1022\n",
      "h=0.1250, k=3.8632\n",
      "h=0.0625, k=3.9528\n",
      "h=0.0312, k=3.9833\n"
     ]
    }
   ],
   "source": [
    "fig, ax = plt.subplots(figsize=(15, 6))\n",
    "\n",
    "ax.set_xlabel('h', fontsize ='xx-large')\n",
    "ax.set_ylabel('errore', fontsize ='xx-large')\n",
    "ax.set_yscale('log')\n",
    "ax.set_xscale('log')\n",
    "\n",
    "\n",
    "plt.scatter(h_list, errore)\n",
    "plt.show()\n",
    "\n",
    "k_list = []\n",
    "for i in range(1,len(errore)):\n",
    "    k = np.log(errore[i-1]/errore[i])/np.log(h_list[i-1]/h_list[i])\n",
    "    k_list.append(k)\n",
    "    print((\"h=%.4f, k=%.4f\")%(h_list[i],k_list[i-1]))"
   ]
  },
  {
   "cell_type": "code",
   "execution_count": 12,
   "id": "af1de0fa",
   "metadata": {},
   "outputs": [
    {
     "data": {
      "image/png": "[encoded data removed]",
      "text/plain": [
       "<Figure size 1080x432 with 1 Axes>"
      ]
     },
     "metadata": {
      "needs_background": "light"
     },
     "output_type": "display_data"
    },
    {
     "name": "stdout",
     "output_type": "stream",
     "text": [
      "h=0.2500, k=3.8692\n",
      "h=0.1250, k=3.9536\n",
      "h=0.0625, k=3.9659\n",
      "h=0.0312, k=3.7326\n"
     ]
    }
   ],
   "source": [
    "fig, ax = plt.subplots(figsize=(15, 6))\n",
    "\n",
    "ax.set_xlabel('h', fontsize ='xx-large')\n",
    "ax.set_ylabel('errore vero', fontsize ='xx-large')\n",
    "ax.set_yscale('log')\n",
    "ax.set_xscale('log')\n",
    "\n",
    "\n",
    "plt.scatter(h_list, err_vero)\n",
    "#print(err_vero)\n",
    "plt.show()\n",
    "\n",
    "k_list_vero = []\n",
    "for i in range(1,len(err_vero)):\n",
    "    k = np.log(err_vero[i-1]/err_vero[i])/np.log(h_list[i-1]/h_list[i])\n",
    "    k_list_vero.append(k)\n",
    "    print((\"h=%.4f, k=%.4f\")%(h_list[i],k_list_vero[i-1]))"
   ]
  },
  {
   "cell_type": "code",
   "execution_count": 13,
   "id": "26a31c4a",
   "metadata": {},
   "outputs": [
    {
     "name": "stdout",
     "output_type": "stream",
     "text": [
      " y(0.06)= 0.93847704\n",
      " y(0.12)= 0.87891389\n",
      " y(0.19)= 0.82132780\n",
      " y(0.25)= 0.76574771\n",
      " y(0.31)= 0.71221453\n",
      " y(0.38)= 0.66078154\n",
      " y(0.44)= 0.61151493\n",
      " y(0.50)= 0.56449446\n",
      " y(0.56)= 0.51981424\n",
      " y(0.62)= 0.47758371\n",
      " y(0.69)= 0.43792874\n",
      " y(0.75)= 0.40099294\n",
      " y(0.81)= 0.36693919\n",
      " y(0.88)= 0.33595130\n",
      " y(0.94)= 0.30823605\n",
      " y(1.00)= 0.28402542\n",
      " y(1.06)= 0.26357912\n",
      " y(1.12)= 0.24718759\n",
      " y(1.19)= 0.23517522\n",
      " y(1.25)= 0.22790419\n",
      " y(1.31)= 0.22577869\n",
      " y(1.38)= 0.22924982\n",
      " y(1.44)= 0.23882108\n",
      " y(1.50)= 0.25505464\n",
      " y(1.56)= 0.27857852\n",
      " y(1.62)= 0.31009464\n",
      " y(1.69)= 0.35038814\n",
      " y(1.75)= 0.40033787\n",
      " y(1.81)= 0.46092849\n",
      " y(1.88)= 0.53326416\n",
      " y(1.94)= 0.61858433\n",
      " y(2.00)= 0.71828171\n",
      " y(2.06)= 0.83392296\n",
      " y(2.12)= 0.96727229\n",
      " y(2.19)= 1.12031877\n",
      " y(2.25)= 1.29530756\n",
      " y(2.31)= 1.49477597\n",
      " y(2.38)= 1.72159497\n",
      " y(2.44)= 1.97901723\n",
      " y(2.50)= 2.27073244\n",
      " y(2.56)= 2.60093152\n",
      " y(2.62)= 2.97438092\n",
      " y(2.69)= 3.39650882\n",
      " y(2.75)= 3.87350527\n",
      " y(2.81)= 4.41243871\n",
      " y(2.88)= 5.02139159\n",
      " y(2.94)= 5.70961863\n",
      " y(3.00)= 6.48773150\n",
      " y(3.06)= 7.36791489\n",
      " y(3.12)= 8.36417938\n",
      " y(3.19)= 9.49265800\n",
      " y(3.25)=10.77195433\n",
      " y(3.31)=12.22355176\n",
      " y(3.38)=13.87229527\n",
      " y(3.44)=15.74695936\n",
      " y(3.50)=17.88091852\n",
      " y(3.56)=20.31293972\n",
      " y(3.62)=23.08812066\n",
      " y(3.69)=26.25900190\n",
      " y(3.75)=29.88688714\n",
      " y(3.81)=34.04341280\n",
      " y(3.88)=38.81241657\n",
      " y(3.94)=44.29216513\n",
      " y(4.00)=50.59801393\n"
     ]
    }
   ],
   "source": [
    "#2.c) \n",
    "a,b,lista_x4,lista_y4 = runge_kutta_4(x0,xf = 4,y0=y0,n=end_value, printing = True)"
   ]
  },
  {
   "cell_type": "code",
   "execution_count": 15,
   "id": "cf56280c",
   "metadata": {},
   "outputs": [
    {
     "data": {
      "image/png": "[encoded data removed]",
      "text/plain": [
       "<Figure size 1080x432 with 1 Axes>"
      ]
     },
     "metadata": {
      "needs_background": "light"
     },
     "output_type": "display_data"
    }
   ],
   "source": [
    "fig, ax = plt.subplots(figsize=(15, 6))\n",
    "plt.plot(lista_x4,lista_y4)\n",
    "plt.show()"
   ]
  },
  {
   "cell_type": "markdown",
   "id": "89f6128d",
   "metadata": {},
   "source": []
  }
 ],
 "metadata": {
  "kernelspec": {
   "display_name": "Python 3 (ipykernel)",
   "language": "python",
   "name": "python3"
  },
  "language_info": {
   "codemirror_mode": {
    "name": "ipython",
    "version": 3
   },
   "file_extension": ".py",
   "mimetype": "text/x-python",
   "name": "python",
   "nbconvert_exporter": "python",
   "pygments_lexer": "ipython3",
   "version": "3.9.7"
  }
 },
 "nbformat": 4,
 "nbformat_minor": 5
}
