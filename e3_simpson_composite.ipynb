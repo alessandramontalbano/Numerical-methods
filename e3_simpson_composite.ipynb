{
 "cells": [
  {
   "cell_type": "code",
   "execution_count": 1,
   "id": "7f85d184",
   "metadata": {},
   "outputs": [],
   "source": [
    "import numpy as np\n",
    "import matplotlib.pyplot as plt\n",
    "%matplotlib inline"
   ]
  },
  {
   "cell_type": "code",
   "execution_count": 2,
   "id": "b72f2c41",
   "metadata": {},
   "outputs": [],
   "source": [
    "def function(x):\n",
    "    y = np.exp(x**2)\n",
    "    return y"
   ]
  },
  {
   "cell_type": "code",
   "execution_count": 3,
   "id": "577ed3a2",
   "metadata": {},
   "outputs": [],
   "source": [
    "def derivativeIV(x):\n",
    "    dy = 4*np.exp(x**2)*(4*x**4+12*x**2+3)\n",
    "    return dy"
   ]
  },
  {
   "cell_type": "code",
   "execution_count": 4,
   "id": "a9d77a6d",
   "metadata": {},
   "outputs": [],
   "source": [
    "def find_max(lista):\n",
    "    max_value = 0\n",
    "    pos = 0\n",
    "    for i in range(len(lista)):\n",
    "        if lista[i] > max_value:\n",
    "            max_value = lista[i]\n",
    "            pos = i\n",
    "    return lista[i], pos"
   ]
  },
  {
   "cell_type": "code",
   "execution_count": 5,
   "id": "3e7c612e",
   "metadata": {},
   "outputs": [],
   "source": [
    "a = 0\n",
    "b = 0.8"
   ]
  },
  {
   "cell_type": "code",
   "execution_count": 6,
   "id": "0ff841a4",
   "metadata": {},
   "outputs": [],
   "source": [
    "#simpson's composite formula\n",
    "def simpson(n,a, b, plot = True, printing = True, error = False): # inputs are a,b and number of intervals\n",
    "    h = (b-a)/n\n",
    "    #print(\" h: %8.3f\" %(h))\n",
    "    I = (function(a)+function(b))/3\n",
    "\n",
    "    for i in range(1,n):\n",
    "        if i % 2 == 1:\n",
    "            #print(\"odd\",i)\n",
    "            I += 4*function(a + i*h)/3\n",
    "        if i % 2 == 0:\n",
    "            #print(\"even\",i)\n",
    "            I += 2*function(a + i*h)/3 \n",
    "        \n",
    "        #print(I)\n",
    "    I *= h\n",
    "    \n",
    "    #compute simpson composite error \n",
    "    \n",
    "    # plot the function\n",
    "    x_plot = np.linspace(a,b,100)\n",
    "    y_plot = derivativeIV(x_plot)\n",
    "    #print(x_plot)\n",
    "    #print(len(y_plot))\n",
    "    \n",
    "    max_value, pos = find_max(y_plot)\n",
    "    #print(\"il massimo %8.3f, si trova al punto: %8.3f\" % (max_value, x_plot[pos]))\n",
    "    if plot == True:\n",
    "        #second derivative plot, uncomment to visualize maximum value\n",
    "        #plt.plot(x_plot,y_plot,label = \"second derivative\")\n",
    "        #plt.legend()\n",
    "        #plt.show()\n",
    "        \n",
    "        x_list = np.linspace(a,b, 100)\n",
    "        y_list = function(x_list)\n",
    "\n",
    "        fig, ax = plt.subplots(figsize=(7, 4))\n",
    "        ax.plot(x_list, y_list)\n",
    "        ax.set_xlabel('x',fontsize='large')\n",
    "        ax.set_ylabel('y',fontsize='large')\n",
    "        plt.show()\n",
    "        \n",
    "    error = (h**4/180)*(b-a)*max_value\n",
    "    \n",
    "    if printing == True:\n",
    "        if error == True:\n",
    "            print(\"n. of intervals: %d, integral: %8.10f +- %8.10f\" %(n,I,error)) #con errore della formula composita di simpson\n",
    "        else:\n",
    "            print(\"n. of intervals: %d, integral: %8.10f\" %(n,I))\n",
    "    return I, error"
   ]
  },
  {
   "cell_type": "code",
   "execution_count": 7,
   "id": "ffb907da",
   "metadata": {},
   "outputs": [
    {
     "name": "stdout",
     "output_type": "stream",
     "text": [
      "_____RISPOSTA A_____ \n",
      "\n",
      "n. of intervals: 2, integral: 1.0120699151\n",
      "n. of intervals: 4, integral: 1.0093375584\n",
      "n. of intervals: 8, integral: 1.0091349116\n",
      "n. of intervals: 16, integral: 1.0091216115\n",
      "n. of intervals: 32, integral: 1.0091207696\n",
      "n. of intervals: 64, integral: 1.0091207168\n",
      "\n",
      "\n"
     ]
    }
   ],
   "source": [
    "n_start = 2\n",
    "n_intervals = 6\n",
    "\n",
    "#a \n",
    "#Calcolare l’integrale via via raddoppiando il numero di intervalli da n=2 a 64\n",
    "def doubled_intervals(a=a,b=b,n_start = n_start, n_intervals = n_intervals, plot = False, printing = True, error = False):\n",
    "    intervals, integral_values, errors = np.zeros(n_intervals), np.zeros(n_intervals), np.zeros(n_intervals)\n",
    "    for i in range(0,n_intervals):\n",
    "        intervals[i] = 2**(i+1)\n",
    "        integral_values[i],errors[i] = simpson(int(intervals[i]),a,b, plot = plot, printing = printing, error = error)\n",
    "     #print(integral_values)\n",
    "    return intervals,integral_values,errors\n",
    "print(\"_____RISPOSTA A_____ \\n\")\n",
    "intervals, integral_values,errors = doubled_intervals()\n",
    "print(\"\\n\")   "
   ]
  },
  {
   "cell_type": "code",
   "execution_count": 8,
   "id": "06044b51",
   "metadata": {},
   "outputs": [
    {
     "name": "stdout",
     "output_type": "stream",
     "text": [
      "_____RISPOSTA B_____\n",
      "\n",
      " Error estimated from the difference with previous n solution\n",
      "intervalli: 4, integral: 1.0093375584, empirical error 0.0027323567\n",
      "intervalli: 8, integral: 1.0091349116, empirical error 0.0002026468\n",
      "intervalli: 16, integral: 1.0091216115, empirical error 0.0000133001\n",
      "intervalli: 32, integral: 1.0091207696, empirical error 0.0000008419\n",
      "intervalli: 64, integral: 1.0091207168, empirical error 0.0000000528\n"
     ]
    },
    {
     "data": {
      "image/png": "[encoded data removed]",
      "text/plain": [
       "<Figure size 504x288 with 1 Axes>"
      ]
     },
     "metadata": {
      "needs_background": "light"
     },
     "output_type": "display_data"
    },
    {
     "name": "stdout",
     "output_type": "stream",
     "text": [
      "\n",
      "\n"
     ]
    }
   ],
   "source": [
    "#b \n",
    "#Riscrivere i risultati (tranne il primo) con l’errore stimato dalla differenza con la soluzione \n",
    "#per l’n precedente e discutere la dipendenza dell’errore dal passo h\n",
    "def differences(a=a,b=b,n_start = n_start, n_intervals = n_intervals):\n",
    "    print('\\n Error estimated from the difference with previous n solution')\n",
    "    differences, h_list = np.zeros(n_intervals - 1),np.zeros(n_intervals - 1)\n",
    "    intervals,integral_values,errors = doubled_intervals(printing = False)\n",
    "    #print(integral_values)\n",
    "\n",
    "    for i in range(0,len(integral_values)-1):\n",
    "        differences[i] = abs(integral_values[i+1] - integral_values[i])\n",
    "        #print(integral_values[i])\n",
    "        h_list[i] = (b-a)/intervals[i+1]\n",
    "        #print(len(h_list), len(differences))\n",
    "         \n",
    "        #print((\"h %f:, error: %.10f\") % (h_list[i],differences[i]))\n",
    "        \n",
    "        #print((\"intervalli: %d, integral: %0.10f, composite error: %0.10f, empirical error %0.10f\")%(intervals[i+1],integral_values[i+1],errors[i+1], differences[i]))\n",
    "        print((\"intervalli: %d, integral: %0.10f, empirical error %0.10f\")%(intervals[i+1],integral_values[i+1], differences[i]))\n",
    "\n",
    "\n",
    "    fig, ax = plt.subplots(figsize=(7, 4))\n",
    "    ax.plot(differences[:],h_list**4,'o')\n",
    "    ax.plot(differences[:],h_list**4)\n",
    "\n",
    "    ax.set_xlabel('empirical error',fontsize='large')\n",
    "    ax.set_ylabel('h^4',fontsize='large')\n",
    "    plt.show()\n",
    "\n",
    "print(\"_____RISPOSTA B_____\")\n",
    "\n",
    "differences()\n",
    "print(\"\\n\")   "
   ]
  },
  {
   "cell_type": "code",
   "execution_count": 9,
   "id": "b2b95fbe",
   "metadata": {},
   "outputs": [
    {
     "name": "stdout",
     "output_type": "stream",
     "text": [
      "_____RISPOSTA C_____\n",
      "\n",
      "** caso x1 = 0.8\n",
      "n. of intervals: 2, integral: 1.0120699151\n",
      "n. of intervals: 4, integral: 1.0093375584\n",
      "n. of intervals: 8, integral: 1.0091349116\n",
      "n. of intervals: 16, integral: 1.0091216115\n",
      "n. of intervals: 32, integral: 1.0091207696\n",
      "n. of intervals: 64, integral: 1.0091207168\n"
     ]
    },
    {
     "data": {
      "image/png": "[encoded data removed]",
      "text/plain": [
       "<Figure size 504x288 with 1 Axes>"
      ]
     },
     "metadata": {
      "needs_background": "light"
     },
     "output_type": "display_data"
    },
    {
     "name": "stdout",
     "output_type": "stream",
     "text": [
      "\n",
      "\n",
      "** caso x1 = 2.0\n",
      "n. of intervals: 2, integral: 22.1570924490\n",
      "n. of intervals: 4, integral: 17.3536264504\n",
      "n. of intervals: 8, integral: 16.5385947020\n",
      "n. of intervals: 16, integral: 16.4588130544\n",
      "n. of intervals: 32, integral: 16.4530296620\n",
      "n. of intervals: 64, integral: 16.4526531361\n"
     ]
    },
    {
     "data": {
      "image/png": "[encoded data removed]",
      "text/plain": [
       "<Figure size 504x288 with 1 Axes>"
      ]
     },
     "metadata": {
      "needs_background": "light"
     },
     "output_type": "display_data"
    },
    {
     "name": "stdout",
     "output_type": "stream",
     "text": [
      "\n",
      "\n"
     ]
    }
   ],
   "source": [
    "#c\n",
    "#Esplorare cosa succede per x1= 2, confrontando col caso precedente e discutendo le differenze di come funziona \n",
    "#il metodo numerico\n",
    "\n",
    "print(\"_____RISPOSTA C_____\\n\")\n",
    "lista = [0.8,2]\n",
    "\n",
    "for i in lista:\n",
    "    print((\"** caso x1 = %.1f\")%(i))\n",
    "    intervals, integral_values,errors = doubled_intervals(b = i)\n",
    "    \n",
    "    #graph of the function\n",
    "    x_list = np.linspace(a,i, 100)\n",
    "    y_list = function(x_list)\n",
    "    fig, ax = plt.subplots(figsize=(7, 4))\n",
    "    ax.plot(x_list, y_list)\n",
    "    ax.set_xlabel('x',fontsize='large')\n",
    "    ax.set_ylabel('y',fontsize='large')\n",
    "    plt.show()\n",
    "\n",
    "    \n",
    "    print(\"\\n\")"
   ]
  },
  {
   "cell_type": "code",
   "execution_count": 10,
   "id": "8836c291",
   "metadata": {},
   "outputs": [],
   "source": [
    "#quick check\n",
    "from scipy.integrate import quad\n",
    "I_1 = quad(function, a, 0.8)\n",
    "I_2 = quad(function, a, 2)"
   ]
  },
  {
   "cell_type": "code",
   "execution_count": 11,
   "id": "52c8c51b",
   "metadata": {},
   "outputs": [
    {
     "data": {
      "text/plain": [
       "(1.0091207132779216, 1.1203490505073095e-14)"
      ]
     },
     "execution_count": 11,
     "metadata": {},
     "output_type": "execute_result"
    }
   ],
   "source": [
    "I_1"
   ]
  },
  {
   "cell_type": "code",
   "execution_count": 12,
   "id": "b460d5ee",
   "metadata": {},
   "outputs": [
    {
     "data": {
      "text/plain": [
       "(16.45262776550723, 1.5324361329800334e-11)"
      ]
     },
     "execution_count": 12,
     "metadata": {},
     "output_type": "execute_result"
    }
   ],
   "source": [
    "I_2"
   ]
  },
  {
   "cell_type": "markdown",
   "id": "00181812",
   "metadata": {},
   "source": []
  }
 ],
 "metadata": {
  "kernelspec": {
   "display_name": "Python 3 (ipykernel)",
   "language": "python",
   "name": "python3"
  },
  "language_info": {
   "codemirror_mode": {
    "name": "ipython",
    "version": 3
   },
   "file_extension": ".py",
   "mimetype": "text/x-python",
   "name": "python",
   "nbconvert_exporter": "python",
   "pygments_lexer": "ipython3",
   "version": "3.9.7"
  }
 },
 "nbformat": 4,
 "nbformat_minor": 5
}
