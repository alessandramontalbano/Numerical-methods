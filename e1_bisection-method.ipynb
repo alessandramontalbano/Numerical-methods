{
 "cells": [
  {
   "cell_type": "markdown",
   "id": "a2c05e20",
   "metadata": {},
   "source": [
    "# Bisection method"
   ]
  },
  {
   "cell_type": "code",
   "execution_count": 3,
   "id": "531e897e",
   "metadata": {},
   "outputs": [],
   "source": [
    "import numpy as np\n",
    "import matplotlib.pyplot as plt"
   ]
  },
  {
   "cell_type": "code",
   "execution_count": 4,
   "id": "c88f6487",
   "metadata": {},
   "outputs": [],
   "source": [
    "def equation_1(x):\n",
    "    y = np.cos(x) - x**3\n",
    "    return y"
   ]
  },
  {
   "cell_type": "code",
   "execution_count": 5,
   "id": "dbabdeb5",
   "metadata": {},
   "outputs": [],
   "source": [
    "#this is an approximation\n",
    "#h is a small number tending to zero\n",
    "def derivative(x, h = 1e-5, equation = equation_1):\n",
    "    d = (equation(x+h)-equation(x))/h\n",
    "    return d\n",
    "\n",
    "#else we can just do it by hand, uncomment the code below\n",
    "#def derivative(x):\n",
    "#    y = -np.sin(x) - 3*x**2\n",
    "#    return y"
   ]
  },
  {
   "cell_type": "code",
   "execution_count": 6,
   "id": "3c6c3142",
   "metadata": {},
   "outputs": [
    {
     "data": {
      "image/png": "[encoded data removed]",
      "text/plain": [
       "<Figure size 432x288 with 1 Axes>"
      ]
     },
     "metadata": {
      "needs_background": "light"
     },
     "output_type": "display_data"
    }
   ],
   "source": [
    "# visualizing the equation\n",
    "x_plot = np.linspace(-4,4,100)\n",
    "y_plot_1 = np.cos(x_plot)\n",
    "y_plot_2 = (x_plot)**3\n",
    "    \n",
    "plt.plot(x_plot,y_plot_1,label = \"cos(x)\")\n",
    "plt.plot(x_plot,y_plot_2,label = \"x**3\")\n",
    "plt.ylim(-2, 2)\n",
    "plt.legend()\n",
    "plt.show()"
   ]
  },
  {
   "cell_type": "code",
   "execution_count": 10,
   "id": "31b596b2",
   "metadata": {},
   "outputs": [],
   "source": [
    "def bisection(a,b,tol, h = 1e-5, equation = equation_1):\n",
    "    k = 0\n",
    "    fa = equation(a)\n",
    "    while (b-a)> tol:\n",
    "        k+=1\n",
    "        punto_medio = (a+b)/2\n",
    "        fpunto_medio = equation(punto_medio)\n",
    "        if fpunto_medio*equation(a)>0:\n",
    "            a = punto_medio\n",
    "            fa = equation(a)\n",
    "        else:\n",
    "            b = punto_medio\n",
    "    precision = np.float32(abs(b-a))\n",
    "    print(('the bisection method took %g iterations, found the following result: %s with precision: %s') \n",
    "          %(k,punto_medio,precision))         "
   ]
  },
  {
   "cell_type": "code",
   "execution_count": 11,
   "id": "8f8cb4a8",
   "metadata": {},
   "outputs": [
    {
     "name": "stdout",
     "output_type": "stream",
     "text": [
      "the bisection method took 11 iterations, found the following result: 0.8662109375 with precision: 0.0009765625\n"
     ]
    }
   ],
   "source": [
    "bisection(0,2, tol = 0.001)"
   ]
  }
 ],
 "metadata": {
  "kernelspec": {
   "display_name": "Python 3",
   "language": "python",
   "name": "python3"
  },
  "language_info": {
   "codemirror_mode": {
    "name": "ipython",
    "version": 3
   },
   "file_extension": ".py",
   "mimetype": "text/x-python",
   "name": "python",
   "nbconvert_exporter": "python",
   "pygments_lexer": "ipython3",
   "version": "3.8.8"
  }
 },
 "nbformat": 4,
 "nbformat_minor": 5
}
