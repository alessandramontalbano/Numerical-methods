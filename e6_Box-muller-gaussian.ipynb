{
 "cells": [
  {
   "cell_type": "markdown",
   "id": "422bbd85",
   "metadata": {},
   "source": [
    "# Esercizio 6\n",
    "\n",
    "Scrivere ed eseguire un programma C che generi, con una simulazione Monte Carlo (metodo Box-Muller) in singola precisione, 10 misure di potenzadissipata da un resistore di R= 100Ω, rilevate con un wattmetro di precisione 6%, in funzione della tensione ai suoi capi misurata con un voltmetrocon precisione 3% a partire da 0.1 V e con un passo di 0.1 V.\n",
    "\n",
    "Fornire, su due files distinti:\n",
    "1. il sorgente del programma (e6cognomenome.c)\n",
    "2. le risposte ai seguenti quesiti (e6cognomenome.txt)\n",
    "\n",
    "(a) tabulare le 10 coppie di misure e il valore di resistenza corrispondente \n",
    "\n",
    "(b) calcolare la resistenza media, la sua deviazione standard e la deviazione standard della media e verificare la compatibilit ́a dellamedia con il valore nominale di resistenza.\n",
    "\n",
    "(c) discutere come implementare il fatto che oltre un certo limite ci si aspetta che la anche la resistenza stessa aumenti con il calore e quindi con la tensione\n",
    "\n",
    "(d) "
   ]
  },
  {
   "cell_type": "code",
   "execution_count": 1,
   "id": "c826c3e2",
   "metadata": {},
   "outputs": [],
   "source": [
    "import numpy as np\n",
    "import pandas as pd\n",
    "import matplotlib.pyplot as plt\n",
    "import matplotlib.ticker as plticker\n",
    "import matplotlib\n",
    "matplotlib.rcParams.update({'errorbar.capsize': 2})\n",
    "np.set_printoptions(suppress=True) #sopprime la notazione scientifica"
   ]
  },
  {
   "cell_type": "markdown",
   "id": "cfb13907",
   "metadata": {},
   "source": [
    "Proviamo a simulare i dati come sarebbero ottenuti misurando la tensione ai capi di R a partire da 0.1 V con passo di 0.1V\n",
    "\n",
    "Assumiamo che vengano estratti da una distribuzione descritta dall'equazione: $P = \\frac{(V^2)}{R}$ con V = 0.1,0.2,0.3...\n",
    "\n",
    "Incertezza su P è del 6\\% e su V è del 3\\%.  \n"
   ]
  },
  {
   "cell_type": "code",
   "execution_count": 2,
   "id": "d4545cdd",
   "metadata": {},
   "outputs": [
    {
     "name": "stdout",
     "output_type": "stream",
     "text": [
      "          ddp  err_ddp         P     err_P           R\n",
      "0    0.097323    0.003  0.000099  0.000006   95.731513\n",
      "1    0.203052    0.006  0.000371  0.000024  111.127809\n",
      "2    0.302054    0.009  0.000965  0.000054   94.571577\n",
      "3    0.404802    0.012  0.001377  0.000096  119.009783\n",
      "4    0.481901    0.015  0.002478  0.000150   93.716638\n",
      "..        ...      ...       ...       ...         ...\n",
      "95   9.476713    0.288  0.881546  0.055296  101.875694\n",
      "96   8.857871    0.291  0.966375  0.056454   81.191935\n",
      "97   9.470324    0.294  0.957833  0.057624   93.635337\n",
      "98  10.086587    0.297  0.974627  0.058806  104.387840\n",
      "99  10.835974    0.300  1.072973  0.060000  109.432676\n",
      "\n",
      "[100 rows x 5 columns]\n"
     ]
    }
   ],
   "source": [
    "n = 100\n",
    "\n",
    "np.random.seed(1453497)\n",
    "R = np.zeros(n)\n",
    "#Potenza dissipata P = V^2/R nei conduttori ohmnici (resistenza)\n",
    "\n",
    "R_teorico = 100\n",
    "\n",
    "alpha = np.arange(0,0.1,0.01)\n",
    "ddp = np.arange(0.1,0.1*n + 0.1,0.1) #vettore ddp teorico\n",
    "P = (ddp**2)/R_teorico #vettore potenza teorico\n",
    "#P = (ddp**2)/(R_teorico*(1+alpha))\n",
    "#alpha dipende da T\n",
    "\n",
    "err_ddp = np.zeros(n)\n",
    "err_P = np.zeros(n)\n",
    "\n",
    "for i in range(n):\n",
    "    #voltmetro 3 % supponiamo incertezze gaussiana\n",
    "    u1,u2 = np.random.rand(2)\n",
    "    g1 = np.sqrt(-2*np.log(u1))*np.cos(2*np.pi*u2)\n",
    "    g2 = np.sqrt(-2*np.log(u1))*np.sin(2*np.pi*u2)\n",
    "    #print(g1,g2)\n",
    "    err_ddp[i] = ddp[i]*0.03\n",
    "    err_P[i] = P[i]*0.06\n",
    "    ddp[i] += err_ddp[i]*g1\n",
    "    P[i] += err_P[i]*g2 \n",
    "    R[i] = (ddp[i]**2)/P[i]\n",
    "\n",
    "\n",
    "df = pd.DataFrame(data={'ddp': ddp, 'err_ddp': err_ddp, 'P': P, 'err_P':err_P, 'R': R})\n",
    "print(df)"
   ]
  },
  {
   "cell_type": "code",
   "execution_count": 19,
   "id": "678312d2",
   "metadata": {},
   "outputs": [
    {
     "name": "stdout",
     "output_type": "stream",
     "text": [
      "        ddp   err_ddp         P     err_P           R\n",
      "0  0.097323  0.002920  0.000099  0.000006   95.731513\n",
      "1  0.203052  0.006092  0.000371  0.000022  111.127809\n",
      "2  0.302054  0.009062  0.000965  0.000058   94.571577\n",
      "3  0.404802  0.012144  0.001377  0.000083  119.009783\n",
      "4  0.481901  0.014457  0.002478  0.000149   93.716638\n",
      "5  0.597992  0.017940  0.003724  0.000223   96.011907\n",
      "6  0.705581  0.021167  0.004973  0.000298  100.113769\n",
      "7  0.792860  0.023786  0.006681  0.000401   94.085872\n",
      "8  0.887472  0.026624  0.008601  0.000516   91.569119\n",
      "9  0.994663  0.029840  0.009304  0.000558  106.333812\n"
     ]
    }
   ],
   "source": [
    "n = 10\n",
    "\n",
    "np.random.seed(1453497)\n",
    "R = np.zeros(n)\n",
    "#Potenza dissipata P = V^2/R nei conduttori ohmnici (resistenza)\n",
    "\n",
    "R_teorico = 100\n",
    "\n",
    "alpha = np.arange(0,0.1,0.01)\n",
    "ddp = np.arange(0.1,0.1*n + 0.1,0.1) #vettore ddp teorico\n",
    "P = (ddp**2)/R_teorico #vettore potenza teorico\n",
    "#P = (ddp**2)/(R_teorico*(1+alpha))\n",
    "#alpha dipende da T\n",
    "\n",
    "err_ddp = np.zeros(n)\n",
    "err_P = np.zeros(n)\n",
    "\n",
    "for i in range(n):\n",
    "    #voltmetro 3 % supponiamo incertezze gaussiana\n",
    "    u1,u2 = np.random.rand(2)\n",
    "    g1 = np.sqrt(-2*np.log(u1))*np.cos(2*np.pi*u2)\n",
    "    g2 = np.sqrt(-2*np.log(u1))*np.sin(2*np.pi*u2)\n",
    "    #print(g1,g2)\n",
    "    ddp[i] += ddp[i]*0.03*g1\n",
    "    P[i] += P[i]*0.06*g2 \n",
    "    err_ddp[i] = ddp[i]*0.03\n",
    "    err_P[i] = P[i]*0.06\n",
    "    R[i] = (ddp[i]**2)/P[i]\n",
    "\n",
    "df = pd.DataFrame(data={'ddp': ddp, 'err_ddp': err_ddp, 'P': P, 'err_P':err_P, 'R': R})\n",
    "print(df)"
   ]
  },
  {
   "cell_type": "code",
   "execution_count": 25,
   "id": "d2cf5737",
   "metadata": {},
   "outputs": [],
   "source": [
    "def calcola_err(var, err):\n",
    "    I_list = var.values\n",
    "    err_I_list = err.values\n",
    "    #print(I_list, err_I_list)\n",
    "\n",
    "    errori_I = np.zeros(n)\n",
    "    I = np.zeros(n)\n",
    "\n",
    "    for i in range(n):\n",
    "        for k in range(1,6):\n",
    "            approx = round(err_I_list[i], k)\n",
    "            if approx > 0.:\n",
    "                #print(i, approx)\n",
    "                #print(\"\\t\", 2/10**k)\n",
    "                uno = round(err_I_list[i], k+1)\n",
    "                #print(\"\\t\",uno)\n",
    "                if uno < (2/10**k):\n",
    "                    errori_I[i] = uno\n",
    "                    I[i] = round(I_list[i], k+1)\n",
    "                    break\n",
    "                #print(\"\\t\", approx)\n",
    "                errori_I[i] = approx\n",
    "                I[i] = round(I_list[i], k)\n",
    "                break\n",
    "    #print(errori_I)\n",
    "    #print(I)\n",
    "    return I,errori_I"
   ]
  },
  {
   "cell_type": "code",
   "execution_count": null,
   "id": "b767625e",
   "metadata": {},
   "outputs": [],
   "source": []
  },
  {
   "cell_type": "code",
   "execution_count": 24,
   "id": "b06be377",
   "metadata": {},
   "outputs": [
    {
     "name": "stdout",
     "output_type": "stream",
     "text": [
      "     ddp  err_ddp         P     err_P           R\n",
      "0  0.097    0.003  0.000099  0.000006   95.731513\n",
      "1  0.203    0.006  0.000370  0.000020  111.127809\n",
      "2  0.302    0.009  0.000960  0.000060   94.571577\n",
      "3  0.405    0.012  0.001380  0.000080  119.009783\n",
      "4  0.482    0.014  0.002480  0.000150   93.716638\n",
      "5  0.598    0.018  0.003700  0.000200   96.011907\n",
      "6  0.710    0.020  0.005000  0.000300  100.113769\n",
      "7  0.790    0.020  0.006700  0.000400   94.085872\n",
      "8  0.890    0.030  0.008600  0.000500   91.569119\n",
      "9  0.990    0.030  0.009300  0.000600  106.333812\n"
     ]
    }
   ],
   "source": [
    "df_approx = df.copy()\n",
    "df_approx['ddp'],df_approx['err_ddp'] = calcola_err(df['ddp'],df['err_ddp'])\n",
    "df_approx['P'],df_approx['err_P'] = calcola_err(df['P'],df['err_P'])\n",
    "print(df_approx)"
   ]
  },
  {
   "cell_type": "code",
   "execution_count": 23,
   "id": "8eae91d7",
   "metadata": {},
   "outputs": [
    {
     "name": "stderr",
     "output_type": "stream",
     "text": [
      "<ipython-input-23-9db594c45fd2>:5: MatplotlibDeprecationWarning: Passing the minor parameter of set_ticks() positionally is deprecated since Matplotlib 3.2; the parameter will become keyword-only two minor releases later.\n",
      "  ax.xaxis.set_ticks(np.arange(0, 25),1)  # Set label locations\n"
     ]
    },
    {
     "data": {
      "image/png": "[encoded data removed]",
      "text/plain": [
       "<Figure size 1080x432 with 1 Axes>"
      ]
     },
     "metadata": {
      "needs_background": "light"
     },
     "output_type": "display_data"
    }
   ],
   "source": [
    "fig, ax = plt.subplots(figsize=(15, 6))\n",
    "\n",
    "ax.set_xlabel('D.d.p. (V)', fontsize = 20)\n",
    "ax.set_ylabel('Potenza dissipata', fontsize = 20)\n",
    "ax.xaxis.set_ticks(np.arange(0, 25),1)  # Set label locations\n",
    "ax.tick_params(axis = 'both', which = 'major', labelsize = 20)\n",
    "plt.errorbar(df_approx['ddp'], df_approx['P'], xerr = df_approx['err_ddp'], yerr = df_approx['err_P'],\n",
    "             linestyle = \"None\", fmt = \".k\")\n",
    "plt.title('Grafico P = f(V)', fontsize = 24)\n",
    "plt.show()"
   ]
  },
  {
   "cell_type": "code",
   "execution_count": 17,
   "id": "971096bf",
   "metadata": {},
   "outputs": [
    {
     "name": "stdout",
     "output_type": "stream",
     "text": [
      "La media di R è 100.2271800, con sd  8.5670527 con sd dalla media  2.7091399\n"
     ]
    }
   ],
   "source": [
    "media = np.mean(R)\n",
    "\n",
    "sd = np.std(R)\n",
    "sd_media = sd/np.sqrt(10)\n",
    "print(('La media di R è %10.7f, con sd %10.7f con sd dalla media %10.7f')\n",
    "      %(media,sd, sd_media))"
   ]
  },
  {
   "cell_type": "code",
   "execution_count": 6,
   "id": "e499c57b",
   "metadata": {},
   "outputs": [
    {
     "data": {
      "text/plain": [
       "109.3349973901792"
      ]
     },
     "execution_count": 6,
     "metadata": {},
     "output_type": "execute_result"
    }
   ],
   "source": [
    "#per ottenere l'errore massimo moltiplichiamo per 3\n",
    "media + (sd_media)*3\n",
    "#è compatibile con 100"
   ]
  },
  {
   "cell_type": "code",
   "execution_count": 7,
   "id": "59e42501",
   "metadata": {},
   "outputs": [
    {
     "ename": "ValueError",
     "evalue": "operands could not be broadcast together with shapes (100,) (10,) ",
     "output_type": "error",
     "traceback": [
      "\u001b[1;31m---------------------------------------------------------------------------\u001b[0m",
      "\u001b[1;31mValueError\u001b[0m                                Traceback (most recent call last)",
      "\u001b[1;32m<ipython-input-7-491619c430d8>\u001b[0m in \u001b[0;36m<module>\u001b[1;34m\u001b[0m\n\u001b[0;32m      2\u001b[0m \u001b[1;31m# La R diventa una funzione della V\u001b[0m\u001b[1;33m\u001b[0m\u001b[1;33m\u001b[0m\u001b[1;33m\u001b[0m\u001b[0m\n\u001b[0;32m      3\u001b[0m \u001b[1;33m\u001b[0m\u001b[0m\n\u001b[1;32m----> 4\u001b[1;33m \u001b[0mP\u001b[0m \u001b[1;33m=\u001b[0m \u001b[1;33m(\u001b[0m\u001b[0mddp\u001b[0m\u001b[1;33m**\u001b[0m\u001b[1;36m2\u001b[0m\u001b[1;33m)\u001b[0m\u001b[1;33m/\u001b[0m\u001b[1;33m(\u001b[0m\u001b[0mR_teorico\u001b[0m\u001b[1;33m*\u001b[0m\u001b[1;33m(\u001b[0m\u001b[1;36m1\u001b[0m\u001b[1;33m+\u001b[0m\u001b[0malpha\u001b[0m\u001b[1;33m)\u001b[0m\u001b[1;33m)\u001b[0m\u001b[1;33m\u001b[0m\u001b[1;33m\u001b[0m\u001b[0m\n\u001b[0m\u001b[0;32m      5\u001b[0m \u001b[1;31m# dove alpha è funzione di T\u001b[0m\u001b[1;33m\u001b[0m\u001b[1;33m\u001b[0m\u001b[1;33m\u001b[0m\u001b[0m\n\u001b[0;32m      6\u001b[0m \u001b[1;31m#alpha = coeff.termico [u.m. 1/C°] * T [u.m. C°] quindi è adimensionale\u001b[0m\u001b[1;33m\u001b[0m\u001b[1;33m\u001b[0m\u001b[1;33m\u001b[0m\u001b[0m\n",
      "\u001b[1;31mValueError\u001b[0m: operands could not be broadcast together with shapes (100,) (10,) "
     ]
    }
   ],
   "source": [
    "# Risposta C \n",
    "# La R diventa una funzione della V\n",
    "\n",
    "P = (ddp**2)/(R_teorico*(1+alpha))\n",
    "# dove alpha è funzione di T\n",
    "#alpha = coeff.termico [u.m. 1/C°] * T [u.m. C°] quindi è adimensionale"
   ]
  },
  {
   "cell_type": "code",
   "execution_count": null,
   "id": "da1000aa",
   "metadata": {},
   "outputs": [],
   "source": []
  },
  {
   "cell_type": "code",
   "execution_count": null,
   "id": "e9c29755",
   "metadata": {},
   "outputs": [],
   "source": []
  }
 ],
 "metadata": {
  "kernelspec": {
   "display_name": "Python 3",
   "language": "python",
   "name": "python3"
  },
  "language_info": {
   "codemirror_mode": {
    "name": "ipython",
    "version": 3
   },
   "file_extension": ".py",
   "mimetype": "text/x-python",
   "name": "python",
   "nbconvert_exporter": "python",
   "pygments_lexer": "ipython3",
   "version": "3.8.8"
  }
 },
 "nbformat": 4,
 "nbformat_minor": 5
}
