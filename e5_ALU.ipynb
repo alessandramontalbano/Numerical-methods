{
 "cells": [
  {
   "cell_type": "code",
   "execution_count": 53,
   "id": "69178c89",
   "metadata": {},
   "outputs": [],
   "source": [
    "import numpy as np\n",
    "import pandas as pd\n",
    "np.set_printoptions(formatter={'all':lambda x: 'int: '+str(-x)})\n",
    "np.set_printoptions(suppress=True) #sopprime la notazione scientifica"
   ]
  },
  {
   "cell_type": "code",
   "execution_count": 54,
   "id": "8e57cdd6",
   "metadata": {},
   "outputs": [
    {
     "data": {
      "text/html": [
       "<div>\n",
       "<style scoped>\n",
       "    .dataframe tbody tr th:only-of-type {\n",
       "        vertical-align: middle;\n",
       "    }\n",
       "\n",
       "    .dataframe tbody tr th {\n",
       "        vertical-align: top;\n",
       "    }\n",
       "\n",
       "    .dataframe thead th {\n",
       "        text-align: right;\n",
       "    }\n",
       "</style>\n",
       "<table border=\"1\" class=\"dataframe\">\n",
       "  <thead>\n",
       "    <tr style=\"text-align: right;\">\n",
       "      <th></th>\n",
       "      <th>col1</th>\n",
       "      <th>col2</th>\n",
       "      <th>col3</th>\n",
       "      <th>col4</th>\n",
       "      <th>col5</th>\n",
       "      <th>col6</th>\n",
       "    </tr>\n",
       "  </thead>\n",
       "  <tbody>\n",
       "    <tr>\n",
       "      <th>0</th>\n",
       "      <td>1.000000</td>\n",
       "      <td>2.00</td>\n",
       "      <td>0.500</td>\n",
       "      <td>-5</td>\n",
       "      <td>0.0</td>\n",
       "      <td>-11.1666</td>\n",
       "    </tr>\n",
       "    <tr>\n",
       "      <th>1</th>\n",
       "      <td>-1.300000</td>\n",
       "      <td>1.00</td>\n",
       "      <td>-15.000</td>\n",
       "      <td>0</td>\n",
       "      <td>2.0</td>\n",
       "      <td>28.0000</td>\n",
       "    </tr>\n",
       "    <tr>\n",
       "      <th>2</th>\n",
       "      <td>0.333333</td>\n",
       "      <td>0.00</td>\n",
       "      <td>1.234</td>\n",
       "      <td>-4</td>\n",
       "      <td>4.0</td>\n",
       "      <td>56.5673</td>\n",
       "    </tr>\n",
       "    <tr>\n",
       "      <th>3</th>\n",
       "      <td>0.666600</td>\n",
       "      <td>-5.00</td>\n",
       "      <td>1.000</td>\n",
       "      <td>30</td>\n",
       "      <td>-1.0</td>\n",
       "      <td>-10.6661</td>\n",
       "    </tr>\n",
       "    <tr>\n",
       "      <th>4</th>\n",
       "      <td>0.000000</td>\n",
       "      <td>0.05</td>\n",
       "      <td>8.000</td>\n",
       "      <td>-12</td>\n",
       "      <td>-0.5</td>\n",
       "      <td>-3.5000</td>\n",
       "    </tr>\n",
       "  </tbody>\n",
       "</table>\n",
       "</div>"
      ],
      "text/plain": [
       "       col1  col2    col3  col4  col5     col6\n",
       "0  1.000000  2.00   0.500    -5   0.0 -11.1666\n",
       "1 -1.300000  1.00 -15.000     0   2.0  28.0000\n",
       "2  0.333333  0.00   1.234    -4   4.0  56.5673\n",
       "3  0.666600 -5.00   1.000    30  -1.0 -10.6661\n",
       "4  0.000000  0.05   8.000   -12  -0.5  -3.5000"
      ]
     },
     "execution_count": 54,
     "metadata": {},
     "output_type": "execute_result"
    }
   ],
   "source": [
    "df = pd.read_csv('dati2.txt',delimiter=' ')\n",
    "df"
   ]
  },
  {
   "cell_type": "code",
   "execution_count": 55,
   "id": "c34c382c",
   "metadata": {},
   "outputs": [],
   "source": [
    "dim = np.shape(df)\n",
    "n = dim[0]"
   ]
  },
  {
   "cell_type": "code",
   "execution_count": 56,
   "id": "32a4239c",
   "metadata": {},
   "outputs": [],
   "source": [
    "A = df.iloc[:,:n].values #matrice A dei coefficienti del sistema\n",
    "b = df.iloc[:,n:].values #vettore b dei termini noti\n",
    "dim = np.shape(A)"
   ]
  },
  {
   "cell_type": "code",
   "execution_count": 57,
   "id": "3ddbaf95",
   "metadata": {},
   "outputs": [],
   "source": [
    "#inizializzazione U ed L\n",
    "U = np.zeros(dim)\n",
    "L = np.zeros(dim)\n",
    "\n",
    "for i in range(n):\n",
    "    U[0][i] = A[0][i]\n",
    "for j in range(1,n):\n",
    "    L[j][0] = A[j][0]/U[0][0]\n",
    "\n",
    "#definizione della prima riga di U\n",
    "for i in range(n):\n",
    "    U[i][i] = A[i][i] # così riempie solo la diagonale con elementi di A\n",
    "    for j in range(i):\n",
    "        U[i][j] = A[i][j]\n",
    "        for k in range(j):\n",
    "            U[i][j] -= L[i][k]*U[k][j]\n",
    "        \n",
    "    for j in range( n):\n",
    "        U[i][j] = A[i][j]\n",
    "        L[j][i] = A[j][i]\n",
    "        for k in range(i):\n",
    "            U[i][j] -= L[i][k]*U[k][j]\n",
    "            L[j][i] -= L[j][k]*U[k][i]\n",
    "        #U[i][j] = U[i][j] \n",
    "        L[j][i] = L[j][i]/U[i][i] "
   ]
  },
  {
   "cell_type": "code",
   "execution_count": 58,
   "id": "1035ef5e",
   "metadata": {},
   "outputs": [
    {
     "data": {
      "text/plain": [
       "array([[  1.      ,   2.      ,   0.5     ,  -5.      ,   0.      ],\n",
       "       [ -1.3     ,   1.      , -15.      ,   0.      ,   2.      ],\n",
       "       [  0.333333,   0.      ,   1.234   ,  -4.      ,   4.      ],\n",
       "       [  0.6666  ,  -5.      ,   1.      ,  30.      ,  -1.      ],\n",
       "       [  0.      ,   0.05    ,   8.      , -12.      ,  -0.5     ]])"
      ]
     },
     "execution_count": 58,
     "metadata": {},
     "output_type": "execute_result"
    }
   ],
   "source": [
    "A"
   ]
  },
  {
   "cell_type": "code",
   "execution_count": 59,
   "id": "abed7d98",
   "metadata": {},
   "outputs": [
    {
     "data": {
      "text/plain": [
       "array([[  1.      ,   2.      ,   0.5     ,  -5.      ,   0.      ],\n",
       "       [ -1.3     ,   1.      , -15.      ,   0.      ,   2.      ],\n",
       "       [  0.333333,   0.      ,   1.234   ,  -4.      ,   4.      ],\n",
       "       [  0.6666  ,  -5.      ,   1.      ,  30.      ,  -1.      ],\n",
       "       [  0.      ,   0.05    ,   8.      , -12.      ,  -0.5     ]])"
      ]
     },
     "execution_count": 59,
     "metadata": {},
     "output_type": "execute_result"
    }
   ],
   "source": [
    "np.dot(L.reshape(-n,n),U)"
   ]
  },
  {
   "cell_type": "code",
   "execution_count": 60,
   "id": "8b49d76d",
   "metadata": {},
   "outputs": [],
   "source": [
    "z = np.zeros(n)\n",
    "x = np.zeros(n)\n",
    "\n",
    "#z by forward substitution\n",
    "z[0] = b[0]#/L[0][0]\n",
    "for j in range(1,n):\n",
    "    z[j] = b[j]\n",
    "    for k in range(j):\n",
    "        #print(j)\n",
    "        #print((\"b[%f]= %f\")%(j+1,b[j]))\n",
    "        #print((\"L[%f,%f]= %f\")%(j+1,k+1,L[j][k]))\n",
    "        #print((\"z[%f]= %f\")%(k+1,z[k]))\n",
    "        z[j] -= L[j][k]*z[k]\n",
    "    #z[j] = z[j]/L[j][j]\n",
    "    \n",
    "#x by backward substitution    \n",
    "x[n-1] = z[n-1]/U[n-1][n-1]\n",
    "for j in range(n-2,-1,-1):\n",
    "    #print(j)\n",
    "    x[j] = z[j]\n",
    "    for k in range(j+1,n):\n",
    "        #print((\"z[%f]= %f\")%(j+1,z[j]))\n",
    "        #print((\"U[%f,%f]= %f\")%(j+1,k+1,U[j][k]))\n",
    "        #print((\"x[%f]= %f\")%(k,x[k]))\n",
    "        x[j] -= U[j][k]*x[k]        \n",
    "\n",
    "    x[j] = x[j]/U[j][j]"
   ]
  },
  {
   "cell_type": "code",
   "execution_count": 61,
   "id": "5b09580c",
   "metadata": {},
   "outputs": [
    {
     "name": "stdout",
     "output_type": "stream",
     "text": [
      "2.a) le matrici L e U \n",
      "\n",
      "L: \n",
      " [[ 1.          0.          0.          0.         -0.        ]\n",
      " [-1.3         1.          0.          0.         -0.        ]\n",
      " [ 0.333333   -0.185185    1.          0.         -0.        ]\n",
      " [ 0.6666     -1.75922222 15.45725633  1.         -0.        ]\n",
      " [ 0.          0.01388889 -5.15656487 -0.39373529  1.        ]]\n",
      "U: \n",
      " [[  1.           2.           0.5         -5.           0.        ]\n",
      " [  0.           3.6        -14.35        -6.5          2.        ]\n",
      " [  0.           0.          -1.59007125  -3.5370375    4.37037   ]\n",
      " [  0.           0.           0.          76.57095083 -65.03548489]\n",
      " [  0.           0.           0.          -0.          -3.59844687]]\n"
     ]
    }
   ],
   "source": [
    "print(\"2.a) le matrici L e U \\n\")\n",
    "print(\"L: \\n\",L)\n",
    "print(\"U: \\n\",U)"
   ]
  },
  {
   "cell_type": "code",
   "execution_count": 62,
   "id": "660b8ac6",
   "metadata": {},
   "outputs": [
    {
     "name": "stdout",
     "output_type": "stream",
     "text": [
      "2.b) Il vettore risultato intermedio z\n",
      "\n",
      "[ -11.1666       13.48342      62.78642341 -950.00795283  -53.97666128]\n"
     ]
    }
   ],
   "source": [
    "print(\"2.b) Il vettore risultato intermedio z\\n\")\n",
    "print(z)"
   ]
  },
  {
   "cell_type": "code",
   "execution_count": 63,
   "id": "72cc4e0e",
   "metadata": {},
   "outputs": [
    {
     "name": "stdout",
     "output_type": "stream",
     "text": [
      "2.c) Il vettore risultato finale x\n",
      "\n",
      "[-9.99997471  0.00001855  0.9999975   0.33333223 14.99998839]\n"
     ]
    }
   ],
   "source": [
    "print(\"2.c) Il vettore risultato finale x\\n\")\n",
    "print(x)"
   ]
  },
  {
   "cell_type": "code",
   "execution_count": 46,
   "id": "40b6777a",
   "metadata": {},
   "outputs": [
    {
     "name": "stdout",
     "output_type": "stream",
     "text": [
      "2.d) ecc  \n",
      "\n"
     ]
    }
   ],
   "source": [
    "print(\"2.d) ecc  \\n\")\n",
    "x_2 = [-10,0,1,1/3,15]\n",
    "x_1 = x.copy()\n",
    "A_1 = A.copy()\n",
    "b_1 = b.copy()\n",
    "x_1[2] = 1 #valore esatto\n",
    "A_1[0][0] = 0.000001\n",
    "b_1[0] = -1.16665"
   ]
  },
  {
   "cell_type": "code",
   "execution_count": 50,
   "id": "40dfbf80",
   "metadata": {},
   "outputs": [],
   "source": [
    "#d Per poter associare un errore ai valori finali ottenuti, si può operare nel seguente modo:\n",
    "# sostituire i valore ottenuti in ogni equazione e confrontarli con i valori del vettore b.\n",
    "# In questo modo, per quanto riguarda x_1, x_3, x_4, x_5 l'errore è praticamente nullo. \n",
    "# Invece, per x_2 possiamo associare un errore pari a approx 1^-15\n",
    "# (anche se arrotondando il valore ottenuto per sostituzione, l'errore è nullo).\n",
    "\n",
    "b_s = np.zeros(n)\n",
    "del_x = np.zeros(n)\n",
    "residuals = np.zeros(n)\n",
    "\n",
    "for i in range(n):\n",
    "    for j in range(n):\n",
    "        b_s[i] += A[i][j]* x_1[j]\n",
    "    residuals[i] = abs(b_s[i] - b[i])\n",
    "    del_x[i] = abs(x_2[i] - x[i])"
   ]
  },
  {
   "cell_type": "code",
   "execution_count": 51,
   "id": "62a21dc8",
   "metadata": {},
   "outputs": [
    {
     "data": {
      "text/plain": [
       "array([-11.16659875,  27.99996245,  56.56730309, -10.6660975 ,\n",
       "        -3.49997998])"
      ]
     },
     "execution_count": 51,
     "metadata": {},
     "output_type": "execute_result"
    }
   ],
   "source": [
    "b_s"
   ]
  },
  {
   "cell_type": "code",
   "execution_count": 52,
   "id": "b4329d7a",
   "metadata": {},
   "outputs": [
    {
     "data": {
      "text/plain": [
       "array([0.00002529, 0.00001855, 0.0000025 , 0.00000111, 0.00001161])"
      ]
     },
     "execution_count": 52,
     "metadata": {},
     "output_type": "execute_result"
    }
   ],
   "source": [
    "del_x"
   ]
  },
  {
   "cell_type": "code",
   "execution_count": 37,
   "id": "4b8e3234",
   "metadata": {},
   "outputs": [
    {
     "data": {
      "text/plain": [
       "array([0.00000125, 0.00003755, 0.00000309, 0.0000025 , 0.00002002])"
      ]
     },
     "execution_count": 37,
     "metadata": {},
     "output_type": "execute_result"
    }
   ],
   "source": []
  },
  {
   "cell_type": "code",
   "execution_count": 38,
   "id": "a07db23d",
   "metadata": {},
   "outputs": [
    {
     "data": {
      "text/plain": [
       "2.503023924474091e-06"
      ]
     },
     "execution_count": 38,
     "metadata": {},
     "output_type": "execute_result"
    }
   ],
   "source": [
    "for i in range(n):\n",
    "    for j in range(n):\n",
    "        somma += A[i][j]*(x_1[j])\n",
    "    b_s[i] = somma\n",
    "    errors[i] = abs(somma - b[i])"
   ]
  },
  {
   "cell_type": "code",
   "execution_count": 16,
   "id": "b84ee671",
   "metadata": {},
   "outputs": [],
   "source": [
    "#l'errore su x3 è 0.000003"
   ]
  },
  {
   "cell_type": "code",
   "execution_count": 17,
   "id": "e5c69bfe",
   "metadata": {},
   "outputs": [],
   "source": [
    "# alla fine ci ritroviamo con n*n relazioni, il che significa che ho n*n incognite, e vogliamo ottenere \n",
    "# (n**2)/2 coefficienti delle matrici per ciascuno, il problema è che c'è l'elemento diagonale.\n",
    "# abbiamo quindi (n**2)/2+(n**2)/2+n = n**2+n incognite, per n**2 relazioni, ciò vuol dire che questi n elementi in più\n",
    "# sono indeterminati e quindi li possiamo assegnare artibtartiamenti (i vari metodi, dooòittle, etc).\n"
   ]
  },
  {
   "cell_type": "code",
   "execution_count": 18,
   "id": "841d20f8",
   "metadata": {},
   "outputs": [],
   "source": [
    "#A meno che un sistema possa essere risolto usando numeri interi, la soluzione calcolata, anche se il metodo di \n",
    "# Doolittle dà soluzione analitica, sarà quasi sempre approssimato a causa di un errore di troncamento dovuto al \n",
    "# calcolatore. "
   ]
  },
  {
   "cell_type": "code",
   "execution_count": null,
   "id": "a626f978",
   "metadata": {},
   "outputs": [],
   "source": []
  }
 ],
 "metadata": {
  "kernelspec": {
   "display_name": "Python 3",
   "language": "python",
   "name": "python3"
  },
  "language_info": {
   "codemirror_mode": {
    "name": "ipython",
    "version": 3
   },
   "file_extension": ".py",
   "mimetype": "text/x-python",
   "name": "python",
   "nbconvert_exporter": "python",
   "pygments_lexer": "ipython3",
   "version": "3.8.8"
  }
 },
 "nbformat": 4,
 "nbformat_minor": 5
}
