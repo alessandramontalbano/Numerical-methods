{
 "cells": [
  {
   "cell_type": "code",
   "execution_count": 1,
   "id": "89acf42a",
   "metadata": {},
   "outputs": [],
   "source": [
    "import numpy as np\n",
    "import pandas as pd\n",
    "import matplotlib.pyplot as plt\n",
    "import matplotlib\n",
    "matplotlib.rcParams.update({'errorbar.capsize': 2})\n",
    "np.set_printoptions(suppress=True) #sopprime la notazione scientifica"
   ]
  },
  {
   "cell_type": "code",
   "execution_count": 2,
   "id": "57637bf0",
   "metadata": {},
   "outputs": [],
   "source": [
    "n = 10 #numero di misure di tensione\n",
    "seed = 2 #il seed\n",
    "R_nominale = 200 #valore della resistenza"
   ]
  },
  {
   "cell_type": "code",
   "execution_count": 3,
   "id": "41177b2b",
   "metadata": {},
   "outputs": [],
   "source": [
    "def mean(lista):\n",
    "    media = 0\n",
    "    n = len(lista)\n",
    "    for i in range(n):\n",
    "        media += lista[i]\n",
    "    media = media/n\n",
    "    return media"
   ]
  },
  {
   "cell_type": "code",
   "execution_count": 4,
   "id": "20dd6631",
   "metadata": {},
   "outputs": [],
   "source": [
    "def st_dev(lista):\n",
    "    n = len(lista)\n",
    "    l = 0\n",
    "    media = mean(lista)\n",
    "    for i in range(n):\n",
    "        l += (lista[i] - media)**2\n",
    "    #print(l)\n",
    "    l = l/n\n",
    "    #print(l)\n",
    "    std = np.sqrt(l)\n",
    "    std_media = std/ np.sqrt(n) \n",
    "    return std, std_media"
   ]
  },
  {
   "cell_type": "code",
   "execution_count": 5,
   "id": "e7fddbc2",
   "metadata": {},
   "outputs": [],
   "source": [
    "def mc_simulation(n,seed, R_nominale, start = 1.0, passo = 1.0):\n",
    "    np.random.seed(seed)\n",
    "    R = np.zeros(n)\n",
    "    #print(R)\n",
    "    ddp = np.arange(start,(n*passo)+start, passo) #vettore ddp \n",
    "    #print(ddp)\n",
    "    I = ddp/R_nominale # V = IR -> I = V/R\n",
    "    #print(I)\n",
    "\n",
    "    for i in range(n):\n",
    "        #voltmetro 3 % supponiamo incertezze gaussiana\n",
    "        u1,u2 = np.random.rand(2)\n",
    "        g1 = np.sqrt(-2*np.log(u1))*np.cos(2*np.pi*u2)\n",
    "        g2 = np.sqrt(-2*np.log(u1))*np.sin(2*np.pi*u2)\n",
    "        #print(g1,g2)\n",
    "        ddp[i] += 0.05*g1\n",
    "        #print(ddp[i])\n",
    "        I[i] += I[i]*0.05*g2\n",
    "        R[i] = ddp[i]/I[i]\n",
    "\n",
    "    df = pd.DataFrame(data={'ddp (V)': ddp,'I (A)': I, 'R (Ohm)': R})\n",
    "    print(df)\n",
    "    return ddp, I, R"
   ]
  },
  {
   "cell_type": "code",
   "execution_count": 6,
   "id": "747739b1",
   "metadata": {
    "scrolled": true
   },
   "outputs": [
    {
     "name": "stdout",
     "output_type": "stream",
     "text": [
      "(a) tabulare le 10 coppie di tensione e corrente ottenute, e il valore di resistenza corrispondente a ogni coppia \n",
      "\n",
      "     ddp (V)     I (A)     R (Ohm)\n",
      "0   1.063572  0.005052  210.514921\n",
      "1   1.949754  0.010216  190.848662\n",
      "2   2.968167  0.015864  187.097698\n",
      "3   3.934797  0.018787  209.447021\n",
      "4   4.991808  0.026930  185.363827\n",
      "5   5.952020  0.029733  200.179241\n",
      "6   6.900224  0.034701  198.846012\n",
      "7   8.020244  0.036413  220.258699\n",
      "8   8.971925  0.045046  199.173525\n",
      "9  10.025321  0.050692  197.767971\n"
     ]
    }
   ],
   "source": [
    "print(\"(a) tabulare le 10 coppie di tensione e corrente ottenute, e il valore di resistenza corrispondente a ogni coppia \\n\")\n",
    "ddp, I, R = mc_simulation(n, seed, R_nominale)"
   ]
  },
  {
   "cell_type": "code",
   "execution_count": 7,
   "id": "c553f991",
   "metadata": {},
   "outputs": [
    {
     "name": "stdout",
     "output_type": "stream",
     "text": [
      "(b) calcolare la resistenza media, la sua deviazione standard e la deviazione standard della media e verificare la compatibilità della media con il valore nominale di resistenza. \n",
      "\n",
      "La media di R è 199.9497577 Ohm, con sd 10.4002991 con sd dalla media  3.2888633\n",
      "Il valore di R è (199.9 +- 3.3) Ohm\n"
     ]
    }
   ],
   "source": [
    "print(\"(b) calcolare la resistenza media, la sua deviazione standard e la deviazione standard della media e verificare la compatibilità della media con il valore nominale di resistenza. \\n\")\n",
    "\n",
    "media = mean(R)\n",
    "sd, sd_media= st_dev(R)\n",
    "print(('La media di R è %10.7f Ohm, con sd %10.7f con sd dalla media %10.7f')\n",
    "      %(media,sd, sd_media))\n",
    "print(('Il valore di R è (%.1f +- %.1f) Ohm')%(media, sd_media))"
   ]
  },
  {
   "cell_type": "code",
   "execution_count": 8,
   "id": "b7841cd6",
   "metadata": {},
   "outputs": [
    {
     "name": "stdout",
     "output_type": "stream",
     "text": [
      "(c) discutere la propagazione degli errori e cosa cambia ripetendo la simulazione con 100 coppie di misure \n",
      "\n",
      "      ddp (V)     I (A)     R (Ohm)\n",
      "0    1.063572  0.005052  210.514921\n",
      "1    1.949754  0.010216  190.848662\n",
      "2    2.968167  0.015864  187.097698\n",
      "3    3.934797  0.018787  209.447021\n",
      "4    4.991808  0.026930  185.363827\n",
      "..        ...       ...         ...\n",
      "95  96.014035  0.485034  197.953109\n",
      "96  96.990578  0.506548  191.473626\n",
      "97  97.931572  0.518334  188.935086\n",
      "98  98.982262  0.490850  201.654896\n",
      "99  99.993839  0.490040  204.052579\n",
      "\n",
      "[100 rows x 3 columns]\n",
      "La media di R è 198.9254684 Ohm, con sd  9.2932911 con sd dalla media  0.9293291\n",
      "Il valore di R è (198.9 +- 0.9) Ohm\n"
     ]
    }
   ],
   "source": [
    "print(\"(c) discutere la propagazione degli errori e cosa cambia ripetendo la simulazione con 100 coppie di misure \\n\")\n",
    "\n",
    "ddp_2, I_2, R_2 = mc_simulation(n = 100, seed = seed, R_nominale = R_nominale, start = 1.0, passo = 1.0)\n",
    "\n",
    "media_2 = mean(R_2)\n",
    "sd_2, sd_media_2 = st_dev(R_2)\n",
    "print(('La media di R è %10.7f Ohm, con sd %10.7f con sd dalla media %10.7f')\n",
    "      %(media_2,sd_2, sd_media_2))\n",
    "print(('Il valore di R è (%.1f +- %.1f) Ohm')%(media_2, sd_media_2))"
   ]
  },
  {
   "cell_type": "markdown",
   "id": "a0f0ae59",
   "metadata": {},
   "source": [
    "(a) tabulare le 10 coppie di tensione e corrente ottenute, e il valore di resistenza corrispondente a ogni coppia \n",
    "\n",
    "     ddp (V)     I (A)     R (Ohm)\n",
    "0   1.063572  0.005052  210.514921\n",
    "1   1.949754  0.010216  190.848662\n",
    "2   2.968167  0.015864  187.097698\n",
    "3   3.934797  0.018787  209.447021\n",
    "4   4.991808  0.026930  185.363827\n",
    "5   5.952020  0.029733  200.179241\n",
    "6   6.900224  0.034701  198.846012\n",
    "7   8.020244  0.036413  220.258699\n",
    "8   8.971925  0.045046  199.173525\n",
    "9  10.025321  0.050692  197.767971\n",
    "\n",
    "\n",
    "\n",
    "(b) calcolare la resistenza media, la sua deviazione standard e la deviazione standard della media e verificare la compatibilità della media con il valore nominale di resistenza. \n",
    "\n",
    "La media di R è 199.9497577 Ohm, con sd 10.4002991 con sd dalla media  3.2888633\n",
    "Il valore di R è (200 +- 3) Ohm\n",
    "\n",
    "Riporto sopra il valore best della resistenza R con errore sigma associato opportunamente approssimato. Calcolando l'errore massimo associato, moltiplicando la sigma per 3, otteniamo che:\n",
    "\n",
    "R = (200 +- 10) Ohm \n",
    "\n",
    "Possiamo affermare che la discrepanza non è significativa. Dato che appunto stiamo parlando di errore massimo, possiamo dire di avere il 100% che la discrepanza stessa cada entro questo intervallo di confidenza.\n",
    "\n",
    "\n",
    "\n",
    "(c) discutere la propagazione degli errori e cosa cambia ripetendo la simulazione con 100 coppie di misure\n",
    "\n",
    "      ddp (V)     I (A)     R (Ohm)\n",
    "0    1.063572  0.005052  210.514921\n",
    "1    1.949754  0.010216  190.848662\n",
    "2    2.968167  0.015864  187.097698\n",
    "3    3.934797  0.018787  209.447021\n",
    "4    4.991808  0.026930  185.363827\n",
    "..        ...       ...         ...\n",
    "95  96.014035  0.485034  197.953109\n",
    "96  96.990578  0.506548  191.473626\n",
    "97  97.931572  0.518334  188.935086\n",
    "98  98.982262  0.490850  201.654896\n",
    "99  99.993839  0.490040  204.052579\n",
    "\n",
    "La media di R è 198.9254684 Ohm, con sd  9.2932911 con sd dalla media  0.9293291\n",
    "Il valore di R è (198.9 +- 0.9) Ohm\n",
    "\n",
    "Osservando il valore best della resistenza R con errore sigma associato, come riportato sopra opportunamente approssimato. Calcolando l'errore massimo associato, moltiplicando la sigma per 3 e approssimando opportunamente, otteniamo che: \n",
    "\n",
    "R = (199 +- 3) Ohm \n",
    "\n",
    "Similmente al punto c) notiamo che la discrepanza non è significativa. Infatti, possiamo dire anche in questo caso di avere il 100% che il valore di R cada entro l'intervallo di confidenza.\n",
    "\n",
    "In questo caso, possiamo notare che, come ci si può aspettare, all'aumentare del numero di misure, in questo caso specificamente 100, abbiamo una maggiore precisione sul valore di R."
   ]
  }
 ],
 "metadata": {
  "kernelspec": {
   "display_name": "Python 3 (ipykernel)",
   "language": "python",
   "name": "python3"
  },
  "language_info": {
   "codemirror_mode": {
    "name": "ipython",
    "version": 3
   },
   "file_extension": ".py",
   "mimetype": "text/x-python",
   "name": "python",
   "nbconvert_exporter": "python",
   "pygments_lexer": "ipython3",
   "version": "3.9.7"
  }
 },
 "nbformat": 4,
 "nbformat_minor": 5
}
